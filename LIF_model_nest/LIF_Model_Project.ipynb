{
 "cells": [
  {
   "cell_type": "markdown",
   "metadata": {},
   "source": [
    "### Get LIF model parameters from Allen SDK\n",
    "\n",
    "* cell id: 318808427: 'Nr5a1', 395830185: 'Scnna1', 314804042: 'Rorb', 330080937: 'Pvalb', 318331342: 'Pvalb'\n",
    "* cell type\n",
    "* tau $\\tau= CR$ (ms)\n",
    "* capacitance $C$ (pF = $10^{-3}$ nF)\n",
    "* resistent: $1/g_L$ ($R$ is in $M \\Omega = 10^6 \\Omega$)\n",
    "* leaky membrane potential $E_L$ (mV)\n",
    "* reset voltage $V_{reset}$ (mV)\n",
    "* refractory period $t_{ref}$ (ms)\n",
    "* firing threshold $V_{th}$ (ms)\n",
    "* input current $I$ (pA)\n",
    "\n",
    "#### Neuron dynamics:\n",
    "* Membrane potential: $\\tau \\frac{dV}{dt} = -g(V-E_L) + I$ or $\\frac{dV}{dt} = -\\frac{1}{\\tau}(V-E_L) + \\frac{1}{C}I$\n",
    "* Fring: $V>V_{th}$\n",
    "* Reset: $V=V_{reset}$ as $t<t_{spike} + t_{ref}$\n",
    "\n",
    "#### List of cells to model\n",
    "* Nr5a1: 318808427\n",
    "* Scnna1: 395830185\n",
    "* Rorb: 314804042\n",
    "* Pvalb: 330080937\n",
    "* Pvalb: 318331342"
   ]
  },
  {
   "cell_type": "code",
   "execution_count": 1,
   "metadata": {
    "collapsed": true
   },
   "outputs": [],
   "source": [
    "import matplotlib.pyplot as plt\n",
    "%matplotlib inline\n",
    "import pandas as pd\n",
    "import numpy as np\n",
    "import json\n",
    "cellNickName = {318808427: 'Nr5a1', 395830185: 'Scnn1a', 314804042: 'Rorb', 330080937: 'PV1', 318331342: 'PV2'}"
   ]
  },
  {
   "cell_type": "code",
   "execution_count": 2,
   "metadata": {
    "collapsed": false
   },
   "outputs": [],
   "source": [
    "LIFModelDF = np.load('LIFModel.npy')"
   ]
  },
  {
   "cell_type": "markdown",
   "metadata": {},
   "source": [
    "### Get Neuronal information in V1 Layer 4"
   ]
  },
  {
   "cell_type": "code",
   "execution_count": 3,
   "metadata": {
    "collapsed": true
   },
   "outputs": [],
   "source": [
    "cellData = pd.read_csv('V1_L4.csv', sep=' ', index_col='index')"
   ]
  },
  {
   "cell_type": "markdown",
   "metadata": {},
   "source": [
    "### Neuronal dynamics -- create an exmaple neuron using NEST-stimulator"
   ]
  },
  {
   "cell_type": "code",
   "execution_count": 4,
   "metadata": {
    "collapsed": true
   },
   "outputs": [],
   "source": [
    "import nest\n",
    "import nest.raster_plot"
   ]
  },
  {
   "cell_type": "code",
   "execution_count": null,
   "metadata": {
    "collapsed": true
   },
   "outputs": [],
   "source": [
    "# n_cell_type = cellData['type'][0]\n",
    "# index_array = LIFModelDF['type']==n_cell_type\n",
    "# neuronparams = { 'tau_m':LIFModelDF[index_array]['tau_m'][0],\n",
    "#                  'V_th':LIFModelDF[index_array]['V_th'][0],\n",
    "#                  'E_L':LIFModelDF[index_array]['E_L'][0],\n",
    "#                  't_ref':LIFModelDF[index_array]['t_ref'][0],\n",
    "#                  'V_reset':LIFModelDF[index_array]['V_reset'][0],\n",
    "#                  'C_m':LIFModelDF[index_array]['C_m'][0],\n",
    "#                  'V_m':LIFModelDF[index_array]['E_L'][0]} #initial membrane potential"
   ]
  },
  {
   "cell_type": "code",
   "execution_count": null,
   "metadata": {
    "collapsed": false
   },
   "outputs": [],
   "source": [
    "# n_cell = nest.Create('iaf_neuron', 1)\n",
    "# nest.SetStatus(n_cell, neuronparams)\n",
    "# nest.SetStatus(n_cell, 'I_e', 300.) #I_e: pA\n",
    "# multimeter = nest.Create(\"multimeter\")\n",
    "# nest.SetStatus(multimeter, {\"withtime\":True, \"record_from\":[\"V_m\"]})\n",
    "# spikedetector = nest.Create(\"spike_detector\")\n",
    "# nest.Connect(multimeter, n_cell)\n",
    "# nest.Connect(n_cell, spikedetector)\n",
    "# nest.Simulate(1000.0)\n",
    "# dmm = nest.GetStatus(multimeter)[0]\n",
    "# Vms = dmm[\"events\"][\"V_m\"]\n",
    "# ts = dmm[\"events\"][\"times\"]\n",
    "# fig, ax = plt.subplots()\n",
    "# ax.plot(ts, Vms)\n",
    "# dSD = nest.GetStatus(spikedetector,keys='events')[0]\n",
    "# evs = dSD[\"senders\"]\n",
    "# ts = dSD[\"times\"]\n",
    "# ax.plot(ts, np.ones(len(ts))*neuronparams['V_th'], \".\")"
   ]
  },
  {
   "cell_type": "markdown",
   "metadata": {},
   "source": [
    "### External inputs\n",
    "\n",
    "* Input data: inputs_data/0_spk.dat\n",
    "* Input for each cell: external_inputs_0_0/cell-(#: __from 0 to 449__).dat\n",
    "* Dynamics (tw_exc synapse) -- NEURON (__Exp2Syn__): w, e, tau1, tau2, delay\n",
    "* Dynamics (using exc synapse instead) -- NEST (there is no built-in Exp2Syn in NEST; __Exp1Syn__): w, e, tau2, delay"
   ]
  },
  {
   "cell_type": "code",
   "execution_count": 9,
   "metadata": {
    "collapsed": true
   },
   "outputs": [],
   "source": [
    "with open('syn_data.json') as syn_data_file:    \n",
    "    syn_params = json.load(syn_data_file)"
   ]
  },
  {
   "cell_type": "markdown",
   "metadata": {},
   "source": [
    "#### number of presynaptic spikes that evokes a postsynaptic spike\n",
    "\n",
    "| cell ID       | number  |\n",
    "| ------------- | -------:|\n",
    "| Scnn1a        | 84      |\n",
    "| Rorb          | 48      |\n",
    "| Nr5a1         | 55      |\n",
    "| PV1           | 33      |\n",
    "| PV2           | 32      |\n",
    "| LIF_exc       | 28      |\n",
    "| LIF_inh       | 125     |"
   ]
  },
  {
   "cell_type": "code",
   "execution_count": 5,
   "metadata": {
    "collapsed": false
   },
   "outputs": [],
   "source": [
    "numPreSynSpike = {'Nr5a1': 55, 'Scnn1a': 84, 'Rorb':48, 'PV1':33, 'PV2':32, 'LIF_exc':28, 'LIF_inh':125}"
   ]
  },
  {
   "cell_type": "markdown",
   "metadata": {},
   "source": [
    "#### Example for a single neuron"
   ]
  },
  {
   "cell_type": "code",
   "execution_count": 78,
   "metadata": {
    "collapsed": false
   },
   "outputs": [
    {
     "data": {
      "text/plain": [
       "[<matplotlib.lines.Line2D at 0x11201c690>]"
      ]
     },
     "execution_count": 78,
     "metadata": {},
     "output_type": "execute_result"
    },
    {
     "data": {
      "image/png": "[encoded data removed]",
      "text/plain": [
       "<matplotlib.figure.Figure at 0x10f309150>"
      ]
     },
     "metadata": {},
     "output_type": "display_data"
    },
    {
     "data": {
      "image/png": "[encoded data removed]",
      "text/plain": [
       "<matplotlib.figure.Figure at 0x1116af950>"
      ]
     },
     "metadata": {},
     "output_type": "display_data"
    }
   ],
   "source": [
    "from external_inputs import *\n",
    "\n",
    "nest.ResetKernel()\n",
    "nest.SetStatus([0], [{'resolution':0.001}])\n",
    "\n",
    "cellIndex   = 0\n",
    "# generate input spike for cell-0\n",
    "f_ext_in_name = 'external_inputs_0_0/cell-%d.dat' % (cellIndex)\n",
    "t_stop = 10000.\n",
    "input_trains = external_inputs(f_ext_in_name, t_stop)\n",
    "inputs_node = nest.Create(\"spike_generator\", len(input_trains))\n",
    "\n",
    "input_train_dict = []\n",
    "for n_node in xrange(len(input_trains)):\n",
    "    input_train_dict.append({\"spike_times\": input_trains[n_node]})\n",
    "\n",
    "nest.SetStatus(inputs_node, input_train_dict)\n",
    "\n",
    "# Create cell\n",
    "neuron_node = nest.Create('iaf_cond_exp', 1)\n",
    "n_cell_type = cellData['type'][cellIndex]\n",
    "index_array = LIFModelDF['type']==n_cell_type\n",
    "neuronparams = { 'g_L':LIFModelDF[index_array]['C_m'][0]/LIFModelDF[index_array]['tau_m'][0],\n",
    "                 'V_th':LIFModelDF[index_array]['V_th'][0],\n",
    "                 'E_L':LIFModelDF[index_array]['E_L'][0],\n",
    "                 't_ref':LIFModelDF[index_array]['t_ref'][0],\n",
    "                 'V_reset':LIFModelDF[index_array]['V_reset'][0],\n",
    "                 'C_m':LIFModelDF[index_array]['C_m'][0],\n",
    "                 'V_m':LIFModelDF[index_array]['E_L'][0]} #initial membrane potential\n",
    "synapseparams = {'E_ex': syn_params[n_cell_type]['exc']['e'],\n",
    "                 'E_in': syn_params[n_cell_type]['inh']['e'],\n",
    "                 'tau_syn_ex': syn_params[n_cell_type]['exc']['tau2'],\n",
    "                 'tau_syn_in': syn_params[n_cell_type]['inh']['tau2']}\n",
    "\n",
    "nest.SetStatus(neuron_node, neuronparams);\n",
    "nest.SetStatus(neuron_node, synapseparams);\n",
    "\n",
    "# monitoring membrane potential of cell\n",
    "multimeter = nest.Create(\"multimeter\")\n",
    "spikedetector = nest.Create(\"spike_detector\")\n",
    "\n",
    "nest.SetStatus(multimeter, {\"withtime\":True, \"record_from\":[\"V_m\", \"g_ex\", \"g_in\"]})\n",
    "# nest.SetStatus(spikedetector, {\"precise_times\":True})\n",
    "\n",
    "# connection\n",
    "# nest.Connect([inputs_node[cellIndex]], neuron_node, 'all_to_all', \n",
    "#              {\"weight\": syn_params[n_cell_type]['tw_exc']['w']*1000., \n",
    "#               \"delay\": syn_params[n_cell_type]['tw_exc']['delay']})\n",
    "\n",
    "tw_exc_weight = (neuronparams['V_th']-neuronparams['V_reset'])/numPreSynSpike[n_cell_type]/(synapseparams['E_ex']-neuronparams['V_reset'])*neuronparams['C_m']*50.\n",
    "\n",
    "nest.Connect([inputs_node[0]], neuron_node, 'all_to_all', \n",
    "             {\"weight\": tw_exc_weight,\n",
    "              \"delay\": syn_params[n_cell_type]['tw_exc']['delay']})\n",
    "\n",
    "\n",
    "nest.Connect(multimeter, neuron_node)\n",
    "nest.Connect(neuron_node, spikedetector)\n",
    "\n",
    "# simulation\n",
    "nest.Simulate(3000.)\n",
    "\n",
    "dmm = nest.GetStatus(multimeter)[0]\n",
    "Vms = dmm[\"events\"][\"V_m\"]\n",
    "ts = dmm[\"events\"][\"times\"]\n",
    "# g_exs = dmm[\"events\"][\"g_ex\"]\n",
    "# g_ins = dmm[\"events\"][\"g_in\"]\n",
    "\n",
    "fig, ax = plt.subplots()\n",
    "ax.plot(ts-ts.min(), Vms,'-k',label='Vm')\n",
    "ax.plot(input_trains[0], np.ones(len(input_trains[0]))*-77.,'+r',label='Input spike')\n",
    "# # ax.legend()\n",
    "# # ax.set_ylim([-78.0, -76.9])\n",
    "# # ax.set_xlim([2412., 2430.])\n",
    "\n",
    "# fig, ax = plt.subplots()\n",
    "# ax.plot(ts-ts.min(), Vms,'-k',label='Vm')\n",
    "# ax.plot(input_trains[0], np.ones(len(input_trains[0]))*neuronparams['V_th'],'+r',label='Input spike')\n",
    "# # ax.legend()\n",
    "\n",
    "# # fig, ax = plt.subplots()\n",
    "# # ax.plot(ts-ts.min(), g_exs,'-b',label='g_ex')\n",
    "# # ax.plot(ts-ts.min(), g_ins,'-r',label='g_in')\n",
    "# # ax.legend()\n",
    "\n",
    "\n",
    "dSD = nest.GetStatus(spikedetector,keys='events')[0]\n",
    "evs = dSD[\"senders\"]\n",
    "ts = dSD[\"times\"]\n",
    "# ax.plot(ts, np.ones(len(ts))*neuronparams['V_th'], \".\")\n",
    "\n",
    "# fig, ax = plt.subplots()\n",
    "# ax.plot(g_exs*(-Vms)/neuronparams['C_m'])\n",
    "# # ax.plot(ts, np.ones(len(ts))*neuronparams['V_th'], \".\")\n",
    "# ax.plot(input_trains[0], np.ones(len(input_trains[0])),'+r',label='Input spike')\n",
    "\n",
    "input_trains_list = []\n",
    "for input_train in input_trains:\n",
    "    input_trains_list.extend(input_train)\n",
    "\n",
    "hist, bin_edges = np.histogram(input_trains_list, bins = np.arange(0, 5000, 10))\n",
    "max_hist = hist.max() - 1\n",
    "fig, ax = plt.subplots()\n",
    "ax.plot(bin_edges[:-1], hist)\n",
    "ax.plot(ts, np.ones(len(ts))*max_hist,'ok')"
   ]
  },
  {
   "cell_type": "markdown",
   "metadata": {},
   "source": [
    "#### Example for all neurons"
   ]
  },
  {
   "cell_type": "code",
   "execution_count": null,
   "metadata": {
    "collapsed": false
   },
   "outputs": [],
   "source": [
    "# from external_inputs import *\n",
    "\n",
    "# nest.ResetKernel()\n",
    "# nest.SetStatus([0], [{'resolution':0.001}])\n",
    "\n",
    "# neuron_node = nest.Create('iaf_cond_exp', len(cellData))\n",
    "# multimeter = nest.Create(\"multimeter\", len(cellData))\n",
    "# nest.SetStatus(multimeter, {\"withtime\":True, \"record_from\":[\"V_m\", \"g_ex\", \"g_in\"]})\n",
    "# nest.Connect(multimeter, neuron_node, 'one_to_one')\n",
    "\n",
    "# t_stop = 5000.\n",
    "\n",
    "# inputs_node_list = [];\n",
    "\n",
    "# for ncell in xrange(len(cellData)):\n",
    "#     f_ext_in_name = 'external_inputs_0_0/cell-%d.dat' % (ncell)\n",
    "#     input_trains = external_inputs(f_ext_in_name, t_stop)\n",
    "#     inputs_node = nest.Create(\"spike_generator\", len(input_trains))\n",
    "#     input_train_dict = []\n",
    "#     for n_node in xrange(len(input_trains)):\n",
    "#         input_train_dict.append({\"spike_times\": input_trains[n_node]})\n",
    "\n",
    "#     nest.SetStatus(inputs_node, input_train_dict)\n",
    "#     inputs_node_list.append(inputs_node)\n",
    "\n",
    "#     n_cell_type = cellData['type'][0]\n",
    "#     index_array = LIFModelDF['type']==n_cell_type\n",
    "#     neuronparams = { 'g_L':LIFModelDF[index_array]['C_m'][0]/LIFModelDF[index_array]['tau_m'][0],\n",
    "#                      'V_th':LIFModelDF[index_array]['V_th'][0],\n",
    "#                      'E_L':LIFModelDF[index_array]['E_L'][0],\n",
    "#                      't_ref':LIFModelDF[index_array]['t_ref'][0],\n",
    "#                      'V_reset':LIFModelDF[index_array]['V_reset'][0],\n",
    "#                      'C_m':LIFModelDF[index_array]['C_m'][0],\n",
    "#                      'V_m':LIFModelDF[index_array]['E_L'][0]} #initial membrane potential\n",
    "#     synapseparams = {'E_ex': syn_params[n_cell_type]['exc']['e'],\n",
    "#                      'E_in': syn_params[n_cell_type]['inh']['e'],\n",
    "#                      'tau_syn_ex': syn_params[n_cell_type]['exc']['tau2'],\n",
    "#                      'tau_syn_in': syn_params[n_cell_type]['inh']['tau2']}\n",
    "#     nest.SetStatus([neuron_node[ncell]], neuronparams);\n",
    "#     nest.SetStatus([neuron_node[ncell]], synapseparams);\n",
    "\n",
    "#     nest.Connect(inputs_node_list[ncell], [neuron_node[ncell]], 'all_to_all', \n",
    "#                  {\"weight\": syn_params[n_cell_type]['tw_exc']['w']*1000., \n",
    "#                   \"delay\": syn_params[n_cell_type]['tw_exc']['delay']})\n",
    "    \n",
    "\n",
    "# # simulation\n",
    "# nest.Simulate(t_stop)"
   ]
  },
  {
   "cell_type": "code",
   "execution_count": null,
   "metadata": {
    "collapsed": false
   },
   "outputs": [],
   "source": [
    "# dmm = nest.GetStatus(multimeter)[0]\n",
    "# Vms = dmm[\"events\"][\"V_m\"]\n",
    "# ts = dmm[\"events\"][\"times\"]\n",
    "# g_exs = dmm[\"events\"][\"g_ex\"]\n",
    "# g_ins = dmm[\"events\"][\"g_in\"]\n",
    "\n",
    "# fig, ax = plt.subplots()\n",
    "# ax.plot(ts-ts.min(), Vms,'-k',label='Vm')"
   ]
  },
  {
   "cell_type": "markdown",
   "metadata": {},
   "source": [
    "### Synaptic dynamics"
   ]
  }
 ],
 "metadata": {
  "kernelspec": {
   "display_name": "Python 2",
   "language": "python",
   "name": "python2"
  },
  "language_info": {
   "codemirror_mode": {
    "name": "ipython",
    "version": 2
   },
   "file_extension": ".py",
   "mimetype": "text/x-python",
   "name": "python",
   "nbconvert_exporter": "python",
   "pygments_lexer": "ipython2",
   "version": "2.7.11"
  }
 },
 "nbformat": 4,
 "nbformat_minor": 0
}
